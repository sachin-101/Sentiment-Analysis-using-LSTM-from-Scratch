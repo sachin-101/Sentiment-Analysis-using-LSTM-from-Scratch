{
 "cells": [
  {
   "cell_type": "markdown",
   "metadata": {
    "colab_type": "text",
    "id": "4rxbWk7_kyZ8"
   },
   "source": [
    "Author : Sachin Kumar \n",
    "\n",
    "Roll no : 108118083 \n",
    "\n",
    "Domain : Signal Processing and ML\n",
    "\n",
    "Sub-domain : Machine Learning\n",
    "\n",
    "## Twitter Sentiment Analysis\n",
    "\n"
   ]
  },
  {
   "cell_type": "code",
   "execution_count": 0,
   "metadata": {
    "colab": {},
    "colab_type": "code",
    "id": "-BEEVNSDxUjd"
   },
   "outputs": [],
   "source": [
    "import numpy as np\n",
    "import tensorflow as tf\n",
    "import pandas as pd\n",
    "import matplotlib.pyplot as plt\n",
    "import re"
   ]
  },
  {
   "cell_type": "code",
   "execution_count": 3,
   "metadata": {
    "colab": {
     "base_uri": "https://localhost:8080/",
     "height": 124
    },
    "colab_type": "code",
    "id": "WTInJNCGwxw5",
    "outputId": "7701da22-b0e7-4241-a730-f1284c2021e6"
   },
   "outputs": [
    {
     "name": "stdout",
     "output_type": "stream",
     "text": [
      "Go to this URL in a browser: https://accounts.google.com/o/oauth2/auth?client_id=947318989803-6bn6qk8qdgf4n4g3pfee6491hc0brc4i.apps.googleusercontent.com&redirect_uri=urn%3Aietf%3Awg%3Aoauth%3A2.0%3Aoob&scope=email%20https%3A%2F%2Fwww.googleapis.com%2Fauth%2Fdocs.test%20https%3A%2F%2Fwww.googleapis.com%2Fauth%2Fdrive%20https%3A%2F%2Fwww.googleapis.com%2Fauth%2Fdrive.photos.readonly%20https%3A%2F%2Fwww.googleapis.com%2Fauth%2Fpeopleapi.readonly&response_type=code\n",
      "\n",
      "Enter your authorization code:\n",
      "··········\n",
      "Mounted at /content/drive\n"
     ]
    }
   ],
   "source": [
    "# Run this cell to mount your Google Drive.\n",
    "from google.colab import drive\n",
    "drive.mount('/content/drive')"
   ]
  },
  {
   "cell_type": "markdown",
   "metadata": {
    "colab_type": "text",
    "id": "69b41geEwiiK"
   },
   "source": [
    "### Load the dataset"
   ]
  },
  {
   "cell_type": "code",
   "execution_count": 0,
   "metadata": {
    "colab": {},
    "colab_type": "code",
    "id": "oVygwwx-wN6Y"
   },
   "outputs": [],
   "source": [
    "directory = '/content/drive/My Drive/Inductions/Task 2'\n",
    "\n",
    "train_pos = pd.read_csv(f'{directory}/train/pos.csv', encoding = \"ISO-8859-1\", header = None, names = ['tweets'])\n",
    "train_neg = pd.read_csv(f'{directory}/train/neg.csv', encoding = \"ISO-8859-1\", header = None, names = ['tweets'])\n",
    "\n",
    "test_pos = pd.read_csv(f'{directory}/test/test_pos.csv', error_bad_lines = False, header = None, names = ['tweets'])\n",
    "test_neg = pd.read_csv(f'{directory}/test/test_neg.csv', error_bad_lines = False, header = None, names = ['tweets'])"
   ]
  },
  {
   "cell_type": "code",
   "execution_count": 5,
   "metadata": {
    "colab": {
     "base_uri": "https://localhost:8080/",
     "height": 139
    },
    "colab_type": "code",
    "id": "QbuXYmOp1VCb",
    "outputId": "5e995775-e4a1-4150-c328-a254f0fdb1a8"
   },
   "outputs": [
    {
     "name": "stdout",
     "output_type": "stream",
     "text": [
      "Training data\n",
      "Number of Positive sentences (800000, 1)\n",
      "Number of Negativ sentences (800000, 1)\n",
      "----------\n",
      "Test data\n",
      "Number of Positive sentences (182, 1)\n",
      "Number of Negativ sentences (182, 1)\n"
     ]
    }
   ],
   "source": [
    "print('Training data')\n",
    "print('Number of Positive sentences', train_pos.shape)\n",
    "print('Number of Negativ sentences', train_pos.shape)\n",
    "\n",
    "print('-'*10)\n",
    "print('Test data')\n",
    "print('Number of Positive sentences', test_pos.shape)\n",
    "print('Number of Negativ sentences', test_pos.shape)"
   ]
  },
  {
   "cell_type": "code",
   "execution_count": 6,
   "metadata": {
    "colab": {
     "base_uri": "https://localhost:8080/",
     "height": 278
    },
    "colab_type": "code",
    "id": "kGv5B2D9yF9e",
    "outputId": "77e68680-cc94-4d31-c5ac-23fe676f8d37"
   },
   "outputs": [
    {
     "name": "stdout",
     "output_type": "stream",
     "text": [
      "Some Positive tweets\n",
      "                                              tweets\n",
      "0       I LOVE @Health4UandPets u guys r the best!! \n",
      "1  im meeting up with one of my besties tonight! ...\n",
      "2  @DaRealSunisaKim Thanks for the Twitter add, S...\n",
      "3  Being sick can be really cheap when it hurts t...\n",
      "4    @LovesBrooklyn2 he has that effect on everyone \n",
      "--------------------------------------------------\n",
      "Some Negative tweets\n",
      "                                              tweets\n",
      "0  @switchfoot http://twitpic.com/2y1zl - Awww, t...\n",
      "1  is upset that he can't update his Facebook by ...\n",
      "2  @Kenichan I dived many times for the ball. Man...\n",
      "3    my whole body feels itchy and like its on fire \n",
      "4  @nationwideclass no, it's not behaving at all....\n"
     ]
    }
   ],
   "source": [
    "print('Some Positive tweets')\n",
    "print(train_pos.head(5))\n",
    "\n",
    "print('-'*50)\n",
    "print('Some Negative tweets')\n",
    "print(train_neg.head(5))"
   ]
  },
  {
   "cell_type": "markdown",
   "metadata": {
    "colab_type": "text",
    "id": "89PvOzaz8Exa"
   },
   "source": [
    "### Data Preprocessing\n",
    "\n",
    "1. We need to remove stop words, links, usernames  and a lot of other trash from the tweets as they don't convey any sentiment.\n",
    "    \n",
    "    So let us write a function for that."
   ]
  },
  {
   "cell_type": "code",
   "execution_count": 7,
   "metadata": {
    "colab": {
     "base_uri": "https://localhost:8080/",
     "height": 139
    },
    "colab_type": "code",
    "id": "zcUvyON350hk",
    "outputId": "e02ea440-4c24-42cd-e5bf-6f46b93359d2"
   },
   "outputs": [
    {
     "name": "stdout",
     "output_type": "stream",
     "text": [
      "[nltk_data] Downloading package stopwords to /root/nltk_data...\n",
      "[nltk_data]   Unzipping corpora/stopwords.zip.\n",
      "[nltk_data] Downloading package wordnet to /root/nltk_data...\n",
      "[nltk_data]   Unzipping corpora/wordnet.zip.\n",
      "[nltk_data] Downloading package punkt to /root/nltk_data...\n",
      "[nltk_data]   Unzipping tokenizers/punkt.zip.\n"
     ]
    },
    {
     "data": {
      "text/plain": [
       "True"
      ]
     },
     "execution_count": 7,
     "metadata": {
      "tags": []
     },
     "output_type": "execute_result"
    }
   ],
   "source": [
    "import nltk\n",
    "nltk.download('stopwords')\n",
    "nltk.download('wordnet')\n",
    "nltk.download('punkt')"
   ]
  },
  {
   "cell_type": "code",
   "execution_count": 0,
   "metadata": {
    "colab": {},
    "colab_type": "code",
    "id": "nNRHbWq6sqE_"
   },
   "outputs": [],
   "source": [
    "import re\n",
    "import string\n",
    "from nltk.tokenize import word_tokenize\n",
    "from nltk.corpus import stopwords\n",
    "from nltk.stem import WordNetLemmatizer\n",
    "\n",
    "#extract the most common words in english language\n",
    "stop_words = stopwords.words(\"english\")\n",
    "#intialise lemmatizer\n",
    "wordnet_lemmatizer = WordNetLemmatizer()\n",
    "\n",
    "\n",
    "def preprocess(text):\n",
    "    \n",
    "    # convert to lowercase\n",
    "    text = text.lower()\n",
    "    \n",
    "    #remove punctuarion\n",
    "    text = text.translate(str.maketrans('', '', string.punctuation))\n",
    "    \n",
    "    #remove numbers\n",
    "    text = re.sub(r'\\d+', '', text)\n",
    "    \n",
    "    #remove usernames\n",
    "    text = re.sub(r'@[^\\s]+','', text)\n",
    "    \n",
    "    #remove links\n",
    "    text = re.sub(r'((www\\.[^\\s]+)|(https?://[^\\s]+))', '', text) \n",
    "    \n",
    "    # heeeelllloooo => heelloo\n",
    "    text = re.sub(r\"(.)\\1{4,}\", r\"\\1\"*4, text)\n",
    "    \n",
    "    #remove whitespaces from beginning and end\n",
    "    text = text.strip()\n",
    "    \n",
    "    #tokenize\n",
    "    word_tokens = word_tokenize(text)\n",
    "    tokens = []\n",
    "    \n",
    "    #remove stop words\n",
    "    for token in word_tokens:\n",
    "        if token not in stop_words:\n",
    "            tokens.append(token)\n",
    " \n",
    "    #Lemmatization to reduce words to their base forms\n",
    "    lemm_tokens = [wordnet_lemmatizer.lemmatize(token) for token in tokens]\n",
    "        \n",
    "    return \" \".join(lemm_tokens)\n",
    "    "
   ]
  },
  {
   "cell_type": "markdown",
   "metadata": {
    "colab_type": "text",
    "id": "pylNIlkcs_hX"
   },
   "source": [
    "Let us also add LABELS to the data. Then we will combine the positive and negative tweets and shuffle them."
   ]
  },
  {
   "cell_type": "code",
   "execution_count": 0,
   "metadata": {
    "colab": {},
    "colab_type": "code",
    "id": "lpQoHTc82z6g"
   },
   "outputs": [],
   "source": [
    "POSITIVE = 0\n",
    "NEGATIVE = 1\n",
    "\n",
    "def add_labels(df, num_label):\n",
    "    df = df.assign(label = pd.Series(np.ones(df.shape[0], dtype='int')*num_label))\n",
    "    return df\n",
    "\n",
    "#add labels to train and test dataset\n",
    "train_pos = add_labels(train_pos, POSITIVE)\n",
    "train_neg = add_labels(train_neg, NEGATIVE)\n",
    "\n",
    "test_pos = add_labels(test_pos, POSITIVE)\n",
    "test_neg = add_labels(test_neg, NEGATIVE)"
   ]
  },
  {
   "cell_type": "code",
   "execution_count": 0,
   "metadata": {
    "colab": {},
    "colab_type": "code",
    "id": "gPOqSWBnssP9"
   },
   "outputs": [],
   "source": [
    "def preprocess_and_combine(df_pos, df_neg):\n",
    "    '''\n",
    "    parameters:\n",
    "        df_pos : dataframe containing positive tweets\n",
    "        df_neg : dataframe containing negative tweets\n",
    "    \n",
    "    retruns:\n",
    "        df_concat : dataframe containing preprocessed tweets\n",
    "        with positive and negative examples shuffled\n",
    "    '''\n",
    "    \n",
    "    #preprocessing the tweets column\n",
    "    df_pos['tweets'] = df_pos['tweets'].apply(lambda x : preprocess(x))\n",
    "    df_neg['tweets'] = df_neg['tweets'].apply(lambda x : preprocess(x))\n",
    "    \n",
    "    df_concat = pd.concat([df_pos, df_neg],)\n",
    "    \n",
    "    #shuffle by selecting random samples, and then resetting index\n",
    "    df_concat = df_concat.sample(frac = 1).reset_index(drop = True)\n",
    "    \n",
    "    return df_concat   "
   ]
  },
  {
   "cell_type": "markdown",
   "metadata": {
    "colab_type": "text",
    "id": "nXJBQCjVudNu"
   },
   "source": [
    "Let us preprocess and combine the negative and positive sentiment tweets into a single dataframe, with shuffling."
   ]
  },
  {
   "cell_type": "code",
   "execution_count": 0,
   "metadata": {
    "colab": {},
    "colab_type": "code",
    "id": "wsZjeRcmBE8V"
   },
   "outputs": [],
   "source": [
    "train_data = preprocess_and_combine(train_pos, train_neg)\n",
    "test_data = preprocess_and_combine(test_pos, test_neg)"
   ]
  },
  {
   "cell_type": "code",
   "execution_count": 0,
   "metadata": {
    "colab": {},
    "colab_type": "code",
    "id": "op4-pwdpbOom"
   },
   "outputs": [],
   "source": [
    "#and store the labels of train and test data, in numpy arrays\n",
    "train_labels = train_data['label'].values.reshape(1, -1)\n",
    "test_labels = test_data['label'].values.reshape(1, -1)"
   ]
  },
  {
   "cell_type": "markdown",
   "metadata": {
    "colab_type": "text",
    "id": "E5ZPak_LutO0"
   },
   "source": [
    "Now, let us check a few tweets from the training set."
   ]
  },
  {
   "cell_type": "code",
   "execution_count": 13,
   "metadata": {
    "colab": {
     "base_uri": "https://localhost:8080/",
     "height": 143
    },
    "colab_type": "code",
    "id": "b6E2SE5Xu1aS",
    "outputId": "3b22da76-716c-45c4-f484-6e0ea381da14"
   },
   "outputs": [
    {
     "data": {
      "text/html": [
       "<div>\n",
       "<style scoped>\n",
       "    .dataframe tbody tr th:only-of-type {\n",
       "        vertical-align: middle;\n",
       "    }\n",
       "\n",
       "    .dataframe tbody tr th {\n",
       "        vertical-align: top;\n",
       "    }\n",
       "\n",
       "    .dataframe thead th {\n",
       "        text-align: right;\n",
       "    }\n",
       "</style>\n",
       "<table border=\"1\" class=\"dataframe\">\n",
       "  <thead>\n",
       "    <tr style=\"text-align: right;\">\n",
       "      <th></th>\n",
       "      <th>tweets</th>\n",
       "      <th>label</th>\n",
       "    </tr>\n",
       "  </thead>\n",
       "  <tbody>\n",
       "    <tr>\n",
       "      <th>0</th>\n",
       "      <td>going footy soonhope dont freeze</td>\n",
       "      <td>0</td>\n",
       "    </tr>\n",
       "    <tr>\n",
       "      <th>1</th>\n",
       "      <td>jsykk thanks lot bro shes week old tomorrow cr...</td>\n",
       "      <td>0</td>\n",
       "    </tr>\n",
       "    <tr>\n",
       "      <th>2</th>\n",
       "      <td>goingg see jb sophiee stephhh back lateerr</td>\n",
       "      <td>0</td>\n",
       "    </tr>\n",
       "  </tbody>\n",
       "</table>\n",
       "</div>"
      ],
      "text/plain": [
       "                                              tweets  label\n",
       "0                   going footy soonhope dont freeze      0\n",
       "1  jsykk thanks lot bro shes week old tomorrow cr...      0\n",
       "2         goingg see jb sophiee stephhh back lateerr      0"
      ]
     },
     "execution_count": 13,
     "metadata": {
      "tags": []
     },
     "output_type": "execute_result"
    }
   ],
   "source": [
    "train_data.head(3)"
   ]
  },
  {
   "cell_type": "markdown",
   "metadata": {
    "colab_type": "text",
    "id": "yaOPqUWOvGGZ"
   },
   "source": [
    "Now that is much cleaner text."
   ]
  },
  {
   "cell_type": "markdown",
   "metadata": {
    "colab_type": "text",
    "id": "Zc_-OO3pNgYE"
   },
   "source": [
    "### Word Embedding Matrix using Word2Vec algorithm"
   ]
  },
  {
   "cell_type": "markdown",
   "metadata": {
    "colab_type": "text",
    "id": "UXfoG9S_H_Qa"
   },
   "source": [
    "***Word Embeddings*** are vector representations that capture the context of the underlying words in relation to other words in the sentence. This transformation results in words having similar meaning being clustered closer together in the hyperplane and distinct words positioned further away in the hyperplane.\n",
    "\n",
    "And ***Word2Vec***  is a 2 layer neural network, whose input is a text corpus and it's output is a set of vectors, which form the ***Word Embedding matrix***.\n",
    "\n",
    "We can use ***pre-trained Word Embeddings*** as written in this keras [blog](https://blog.keras.io/using-pre-trained-word-embeddings-in-a-keras-model.html), which is a better option when our training data is relatively small.\n",
    "\n",
    "But Since we have a large amount of data with us, ***We will train our own Word Embeddings***, specific to our data."
   ]
  },
  {
   "cell_type": "code",
   "execution_count": 0,
   "metadata": {
    "colab": {},
    "colab_type": "code",
    "id": "UhPzVZg1Nupo"
   },
   "outputs": [],
   "source": [
    "from gensim.models.word2vec import Word2Vec"
   ]
  },
  {
   "cell_type": "code",
   "execution_count": 0,
   "metadata": {
    "colab": {},
    "colab_type": "code",
    "id": "SazYhp24F-Bw"
   },
   "outputs": [],
   "source": [
    "#We will create a list of words present in our text corpus\n",
    "Bigger_list = []\n",
    "for i in train_data['tweets']:\n",
    "    li = list(i.split(\" \"))\n",
    "    Bigger_list.append(li)"
   ]
  },
  {
   "cell_type": "code",
   "execution_count": 16,
   "metadata": {
    "colab": {
     "base_uri": "https://localhost:8080/",
     "height": 72
    },
    "colab_type": "code",
    "id": "9m-zWE1bSFHY",
    "outputId": "7860d5d0-4d6e-45f4-df55-8087a85a8b75"
   },
   "outputs": [
    {
     "name": "stderr",
     "output_type": "stream",
     "text": [
      "/usr/local/lib/python3.6/dist-packages/smart_open/smart_open_lib.py:398: UserWarning: This function is deprecated, use smart_open.open instead. See the migration notes for details: https://github.com/RaRe-Technologies/smart_open/blob/master/README.rst#migrating-to-the-new-open-function\n",
      "  'See the migration notes for details: %s' % _MIGRATION_NOTES_URL\n"
     ]
    }
   ],
   "source": [
    "#hyperparams\n",
    "W2V_SIZE = 100    #Size of vector representing each word\n",
    "W2V_WINDOW = 7    \n",
    "W2V_EPOCH = 32    \n",
    "W2V_MIN_COUNT = 10  #Minimum number of times, the word should appear in text corpus\n",
    "                    #for it to be included in vocabulary\n",
    "                    #keeping 10, helps to avoid usernames present in tweets\n",
    "\n",
    "#Let's train our word2Vec model\n",
    "w2v_model = Word2Vec(Bigger_list, size = W2V_SIZE, window = W2V_WINDOW, min_count = W2V_MIN_COUNT, workers = 8)\n",
    "#save the model\n",
    "w2v_model.save(\"model.w2v\")"
   ]
  },
  {
   "cell_type": "markdown",
   "metadata": {
    "colab_type": "text",
    "id": "z90k9rIdFPJD"
   },
   "source": [
    "Now, Let's create a dictionary mapping each word in Vocabulary to an integer."
   ]
  },
  {
   "cell_type": "code",
   "execution_count": 17,
   "metadata": {
    "colab": {
     "base_uri": "https://localhost:8080/",
     "height": 34
    },
    "colab_type": "code",
    "id": "vAlQf3lmUNsU",
    "outputId": "4e5acc94-7fd5-44c8-bd65-2d6f1d218361"
   },
   "outputs": [
    {
     "name": "stdout",
     "output_type": "stream",
     "text": [
      "Length of Vocabulary : 41207\n"
     ]
    }
   ],
   "source": [
    "#let's check out the vocabulary\n",
    "vocab = list(w2v_model.wv.vocab)\n",
    "print('Length of Vocabulary :',len(vocab))\n",
    "\n",
    "#and create the dictionary\n",
    "word_index = {}\n",
    "for i, word in enumerate(vocab, 1): \n",
    "    word_index[word] = i"
   ]
  },
  {
   "cell_type": "markdown",
   "metadata": {
    "colab_type": "text",
    "id": "n0yJz4fHGT73"
   },
   "source": [
    "Let us analyze that our Word2Vec model if it learned correct relation in between the words present in text corpus. We can do that by finding similar words to a given word."
   ]
  },
  {
   "cell_type": "code",
   "execution_count": 18,
   "metadata": {
    "colab": {
     "base_uri": "https://localhost:8080/",
     "height": 176
    },
    "colab_type": "code",
    "id": "MJBkFCeMUwlC",
    "outputId": "05ece510-7839-41db-ee99-c767506948a3"
   },
   "outputs": [
    {
     "name": "stdout",
     "output_type": "stream",
     "text": [
      "Top 5 words similar to great\n"
     ]
    },
    {
     "name": "stderr",
     "output_type": "stream",
     "text": [
      "/usr/local/lib/python3.6/dist-packages/gensim/matutils.py:737: FutureWarning: Conversion of the second argument of issubdtype from `int` to `np.signedinteger` is deprecated. In future, it will be treated as `np.int64 == np.dtype(int).type`.\n",
      "  if np.issubdtype(vec.dtype, np.int):\n"
     ]
    },
    {
     "data": {
      "text/plain": [
       "[('fantastic', 0.83449387550354),\n",
       " ('wonderful', 0.7843339443206787),\n",
       " ('awesome', 0.7513692378997803),\n",
       " ('fabulous', 0.7495031952857971),\n",
       " ('good', 0.7337971925735474)]"
      ]
     },
     "execution_count": 18,
     "metadata": {
      "tags": []
     },
     "output_type": "execute_result"
    }
   ],
   "source": [
    "#let's check similarity\n",
    "test_word = \"great\"\n",
    "print('Top 5 words similar to', test_word)\n",
    "w2v_model.wv.most_similar(test_word, topn = 5)"
   ]
  },
  {
   "cell_type": "markdown",
   "metadata": {
    "colab_type": "text",
    "id": "aIhVnb3_HXJG"
   },
   "source": [
    "Now we will club all the vectors together and form a ***Word Embedding Matrix*** which will be passed into the Neural Network."
   ]
  },
  {
   "cell_type": "code",
   "execution_count": 19,
   "metadata": {
    "colab": {
     "base_uri": "https://localhost:8080/",
     "height": 34
    },
    "colab_type": "code",
    "id": "3ISRc-U8V7pg",
    "outputId": "8899e721-53d9-4c19-e2c1-25fca8bcbbb6"
   },
   "outputs": [
    {
     "name": "stdout",
     "output_type": "stream",
     "text": [
      "Shape of embedding matrix : (41208, 100)\n"
     ]
    }
   ],
   "source": [
    "vocab_size = len(word_index)+1   #one extra row for \"out of vocabulary words\"\n",
    "#initialising the matrix with zeros\n",
    "embedding_matrix = np.zeros((vocab_size, W2V_SIZE))\n",
    "\n",
    "for word, i in word_index.items():\n",
    "    if word in w2v_model.wv:\n",
    "        embedding_matrix[i] = w2v_model.wv[word]  #adding vector to the matrix\n",
    "\n",
    "print('Shape of embedding matrix :', embedding_matrix.shape)"
   ]
  },
  {
   "cell_type": "markdown",
   "metadata": {
    "colab_type": "text",
    "id": "1N0y7kSgSZJD"
   },
   "source": [
    "#### Preparing the input to the Nerual Network.\n",
    "\n",
    "We will transform the tweets to their integer form using the word_index dictionary. And, since not all the tweets are of same length, we will pad the shorter tweets with zeros."
   ]
  },
  {
   "cell_type": "code",
   "execution_count": 20,
   "metadata": {
    "colab": {
     "base_uri": "https://localhost:8080/",
     "height": 34
    },
    "colab_type": "code",
    "id": "S4WqAJtlXKSD",
    "outputId": "6021e51f-2b4c-421a-af61-4af9077e238c"
   },
   "outputs": [
    {
     "name": "stdout",
     "output_type": "stream",
     "text": [
      "Length of longest tweet is 56\n"
     ]
    }
   ],
   "source": [
    "def text_to_int(df, word_index, max_len):\n",
    "    '''\n",
    "        df : dataframe containing column \"tweets\"\n",
    "        word_index : Dictionary contiaing mapping from words to int\n",
    "        max_len : maximum length of each tweet\n",
    "    '''\n",
    "    X = np.zeros((df.shape[0], max_len))  #initialising the nd-array\n",
    "    \n",
    "    for i, tweet in enumerate(df.tweets):\n",
    "        words = list(tweet.split(\" \"))\n",
    "        j = 0\n",
    "        for word in reversed(words):\n",
    "            if word in word_index.keys():   #if present in our vocab\n",
    "                X[i, max_len-1-j] = word_index[word]\n",
    "                j += 1\n",
    "    return X\n",
    "\n",
    "#finding the longest tweet\n",
    "max_len = 0\n",
    "for list_ in Bigger_list:\n",
    "    if len(list_)>max_len:\n",
    "        max_len = len(list_)\n",
    "\n",
    "print('Length of longest tweet is',max_len)\n",
    "\n",
    "#converting train_data tweets to integer\n",
    "X_train = text_to_int(train_data, word_index, max_len)"
   ]
  },
  {
   "cell_type": "code",
   "execution_count": 21,
   "metadata": {
    "colab": {
     "base_uri": "https://localhost:8080/",
     "height": 121
    },
    "colab_type": "code",
    "id": "quGDFx1Bfwgc",
    "outputId": "54141ca8-5489-4d7a-8ffd-761d2fec8595"
   },
   "outputs": [
    {
     "name": "stdout",
     "output_type": "stream",
     "text": [
      "jsykk thanks lot bro shes week old tomorrow crazy im obsessed new dad throwing pic every chance get \n",
      " mapped to \n",
      " [ 0.  0.  0.  0.  0.  0.  0.  0.  0.  0.  0.  0.  0.  0.  0.  0.  0.  0.\n",
      "  0.  0.  0.  0.  0.  0.  0.  0.  0.  0.  0.  0.  0.  0.  0.  0.  0.  0.\n",
      "  0.  0.  0.  5.  6.  7.  8.  9. 10. 11. 12. 13. 14. 15. 16. 17. 18. 19.\n",
      " 20. 21.]\n"
     ]
    }
   ],
   "source": [
    "print(train_data.tweets[1], '\\n mapped to \\n', X_train[1])"
   ]
  },
  {
   "cell_type": "markdown",
   "metadata": {
    "colab_type": "text",
    "id": "KlZDLP94g5Um"
   },
   "source": [
    "Ok! So each of our training data tweets are mapped to integers and padded with zeros. Now they are ready to be fed into the neural network."
   ]
  },
  {
   "cell_type": "markdown",
   "metadata": {
    "colab_type": "text",
    "id": "7cPdSK1EXLry"
   },
   "source": [
    "### Training the Neural Network \n",
    "\n",
    "So, now we will train the Neural Network to understand the relation between words present in the sentence to it's sentiment.\n",
    "Since the ***order*** in which the words are present in sentence matters in defining it's sentiment, we must use RNN layers. \n",
    "Hence, I have written an ***LSTM layer from Scratch*** for our Nerual Network.\n",
    "\n",
    "Since the data size is very large 16 lakhs. It would be better if we choose a random subset of the dataset every epoch and trianed the model on that.\n",
    "Thus ensuring that the model sees many different training examples and also less training time."
   ]
  },
  {
   "cell_type": "code",
   "execution_count": 0,
   "metadata": {
    "colab": {},
    "colab_type": "code",
    "id": "UkFS4lpaPtZb"
   },
   "outputs": [],
   "source": [
    "from neural_net import NeuralNetwork\n",
    "\n",
    "#hyperprams\n",
    "EPOCHS = 10\n",
    "LEARNING_RATE = 0.05\n",
    "LSTM_UNITS = 50   #number of neurons in each LSTM cell\n",
    "T_x = max_len      #Timesteps in input data\n",
    "BATCH_SIZE = 256\n",
    "SUBSET = 200000   # 2 lakh tweets \n",
    "\n",
    "#Initailising the neural network\n",
    "model = NeuralNetwork(embedding_matrix, LSTM_UNITS, W2V_SIZE, T_x)"
   ]
  },
  {
   "cell_type": "code",
   "execution_count": 23,
   "metadata": {
    "colab": {
     "base_uri": "https://localhost:8080/",
     "height": 208
    },
    "colab_type": "code",
    "id": "ECo2A27hjjOv",
    "outputId": "aa6712e8-7754-4693-9c1a-6a6c963ef0f0"
   },
   "outputs": [
    {
     "name": "stdout",
     "output_type": "stream",
     "text": [
      "Shape of training input (1600000, 56)\n",
      "Epoch 1 finished. \t  Loss : 0.5861278220009918\n",
      "Epoch 2 finished. \t  Loss : 0.5587407858458857\n",
      "Epoch 3 finished. \t  Loss : 0.5449874365057856\n",
      "Epoch 4 finished. \t  Loss : 0.5370430705008918\n",
      "Epoch 5 finished. \t  Loss : 0.5309304288253223\n",
      "Epoch 6 finished. \t  Loss : 0.5264710961239543\n",
      "Epoch 7 finished. \t  Loss : 0.5227025170624636\n",
      "Epoch 8 finished. \t  Loss : 0.5198600643334046\n",
      "Epoch 9 finished. \t  Loss : 0.5175122104918393\n",
      "Epoch 10 finished. \t  Loss : 0.5155533864338658\n"
     ]
    }
   ],
   "source": [
    "#Train the model\n",
    "costs, avg_costs = model.train(X_train, train_labels, LEARNING_RATE, EPOCHS, SUBSET, batch_size = BATCH_SIZE)\n",
    "\n",
    "\n",
    "#Or load the model\n",
    "#directory = 'path/to/directory/saved_weights/'\n",
    "#model.load_weights(directory)"
   ]
  },
  {
   "cell_type": "code",
   "execution_count": 24,
   "metadata": {
    "colab": {
     "base_uri": "https://localhost:8080/",
     "height": 283
    },
    "colab_type": "code",
    "id": "FKiphElyWiH6",
    "outputId": "cb833308-35de-488d-d321-6c3b93627d8f"
   },
   "outputs": [
    {
     "data": {
      "image/png": "[encoded data removed]",
      "text/plain": [
       "<Figure size 720x288 with 2 Axes>"
      ]
     },
     "metadata": {
      "tags": []
     },
     "output_type": "display_data"
    }
   ],
   "source": [
    "fig, ax = plt.subplots(nrows = 1, ncols=2)\n",
    "fig.set_figwidth(10)\n",
    "ax[0].plot(np.arange(1,len(costs)+1), costs)\n",
    "ax[0].set_xlabel('Iterations (i.e. Per Batch)')\n",
    "ax[0].set_ylabel('Loss')\n",
    "\n",
    "ax[1].plot(np.arange(len(avg_costs)), avg_costs)\n",
    "ax[1].set_xlabel('Epochs')\n",
    "ax[1].set_ylabel('Loss')\n",
    "\n",
    "plt.show()"
   ]
  },
  {
   "cell_type": "code",
   "execution_count": 26,
   "metadata": {
    "colab": {
     "base_uri": "https://localhost:8080/",
     "height": 34
    },
    "colab_type": "code",
    "id": "fkKyNJKX6pDJ",
    "outputId": "5e49eb26-1b74-48ea-80f5-781d1012dc86"
   },
   "outputs": [
    {
     "name": "stdout",
     "output_type": "stream",
     "text": [
      "All files saved successfully\n"
     ]
    }
   ],
   "source": [
    "#save the model weights\n",
    "directory = '/content/drive/My Drive/Spider Task 3'\n",
    "model.save_weights(directory)"
   ]
  },
  {
   "cell_type": "markdown",
   "metadata": {
    "colab_type": "text",
    "id": "dP3740h5YTCp"
   },
   "source": [
    "### Testing the model"
   ]
  },
  {
   "cell_type": "markdown",
   "metadata": {
    "colab_type": "text",
    "id": "CreBwxj6Y6U0"
   },
   "source": [
    "#### Preparing the test set input\n",
    "\n",
    "We had performed Text Cleaning of the test data above. We also combined the positive and negative tweets after labeling them. Now we will transform the test set data from text to int using the vocabulary learned from the training data."
   ]
  },
  {
   "cell_type": "code",
   "execution_count": 27,
   "metadata": {
    "colab": {
     "base_uri": "https://localhost:8080/",
     "height": 173
    },
    "colab_type": "code",
    "id": "N73tZMAZY-Sg",
    "outputId": "68e27950-f2e7-4b58-cd56-0030c3593faf"
   },
   "outputs": [
    {
     "name": "stdout",
     "output_type": "stream",
     "text": [
      "Shape of X_test (359, 56)\n",
      "\n",
      " im moving east palo alto \n",
      " mapped to\n",
      "[    0     0     0     0     0     0     0     0     0     0     0     0\n",
      "     0     0     0     0     0     0     0     0     0     0     0     0\n",
      "     0     0     0     0     0     0     0     0     0     0     0     0\n",
      "     0     0     0     0     0     0     0     0     0     0     0     0\n",
      "     0     0     0    13    94  2045 36602 20894]\n"
     ]
    }
   ],
   "source": [
    "#converting train_data tweets to integer\n",
    "X_test = text_to_int(test_data, word_index, max_len)\n",
    "print('Shape of X_test',X_test.shape)\n",
    "\n",
    "#Let's check one of the tweets\n",
    "print('\\n', test_data.tweets[0], '\\n mapped to')\n",
    "print(np.array(X_test[0], dtype='int')) "
   ]
  },
  {
   "cell_type": "code",
   "execution_count": 28,
   "metadata": {
    "colab": {
     "base_uri": "https://localhost:8080/",
     "height": 34
    },
    "colab_type": "code",
    "id": "HPP56NZQYWjN",
    "outputId": "0fc4c4e1-286e-47e0-e58e-44b247a37d1f"
   },
   "outputs": [
    {
     "name": "stdout",
     "output_type": "stream",
     "text": [
      "(1, 359)\n"
     ]
    }
   ],
   "source": [
    "# Predictions from the model\n",
    "y_pred = model.predict(X_test)\n",
    "print(y_pred.shape)"
   ]
  },
  {
   "cell_type": "markdown",
   "metadata": {
    "colab_type": "text",
    "id": "jDPQYWpslZzi"
   },
   "source": [
    "#### Plotting the Confusion Matrix\n",
    "\n",
    "In ***Binary Classification*** problems, ***Precision, Recall and F1 Score*** of the model are ***Important metrics*** to decide how good our model is.  \n",
    "And the Cofusion Matrix, gives a good picture of that. Here is a link about [confusion matrix](https://towardsdatascience.com/understanding-confusion-matrix-a9ad42dcfd62)"
   ]
  },
  {
   "cell_type": "code",
   "execution_count": 0,
   "metadata": {
    "colab": {},
    "colab_type": "code",
    "id": "2GCLr9A9lY1o"
   },
   "outputs": [],
   "source": [
    "def get_metrics(y_true, y_pred):\n",
    "    \n",
    "    y_true, y_pred = y_true.ravel(), y_pred.ravel()  #unrolling for easy handling\n",
    "    total = y_true.shape[0]\n",
    "    \n",
    "    true_positive, true_negative, false_positive, false_negative = 0,0,0,0\n",
    "    for i in range(total):\n",
    "        if y_true[i] == 1 and y_pred[i] == 1:\n",
    "            true_positive += 1\n",
    "        elif y_true[i] == 0 and y_pred[i] == 1:\n",
    "            false_positive += 1\n",
    "        elif y_true[i] == 1 and y_pred[i] == 0:\n",
    "            false_negative += 1\n",
    "        else:\n",
    "            true_negative += 1\n",
    "            \n",
    "    precision = true_positive/(true_positive + false_positive)\n",
    "    recall = true_positive/(true_positive + false_negative)\n",
    "    f1_score = 2*precision*recall/(precision + recall)\n",
    "    \n",
    "    conf_matrix = np.array([[true_positive, false_positive],[false_negative, true_negative]])\n",
    "    #calculating accuracy also\n",
    "    accuracy = (true_positive + true_negative)/ total\n",
    "    \n",
    "    return precision, recall, f1_score, accuracy, conf_matrix"
   ]
  },
  {
   "cell_type": "code",
   "execution_count": 30,
   "metadata": {
    "colab": {
     "base_uri": "https://localhost:8080/",
     "height": 104
    },
    "colab_type": "code",
    "id": "YiLbixPykkPu",
    "outputId": "c50df44d-f84f-4205-f3be-3853d588a8e9"
   },
   "outputs": [
    {
     "name": "stdout",
     "output_type": "stream",
     "text": [
      "Accuracy  : 0.7994428969359332 \n",
      "\n",
      "Precision : 0.8070175438596491\n",
      "Recall    : 0.7796610169491526\n",
      "F1 score  : 0.7931034482758621\n"
     ]
    }
   ],
   "source": [
    "#Let's check how well our model performed\n",
    "\n",
    "precision, recall, f1_score, accuracy, conf_matrix = get_metrics(test_labels, y_pred)\n",
    "\n",
    "print('Accuracy  :', accuracy,'\\n')\n",
    "print('Precision :', precision)\n",
    "print('Recall    :', recall)\n",
    "print('F1 score  :', f1_score)"
   ]
  },
  {
   "cell_type": "code",
   "execution_count": 31,
   "metadata": {
    "colab": {
     "base_uri": "https://localhost:8080/",
     "height": 321
    },
    "colab_type": "code",
    "id": "59Qt3pvdvLKX",
    "outputId": "e78f3c8e-aa24-42f7-d980-3197288c058c"
   },
   "outputs": [
    {
     "name": "stdout",
     "output_type": "stream",
     "text": [
      "[[138  33]\n",
      " [ 39 149]]\n"
     ]
    },
    {
     "data": {
      "text/plain": [
       "<matplotlib.axes._subplots.AxesSubplot at 0x7f2fd4e016a0>"
      ]
     },
     "execution_count": 31,
     "metadata": {
      "tags": []
     },
     "output_type": "execute_result"
    },
    {
     "data": {
      "image/png": "[encoded data removed]",
      "text/plain": [
       "<Figure size 432x288 with 2 Axes>"
      ]
     },
     "metadata": {
      "tags": []
     },
     "output_type": "display_data"
    }
   ],
   "source": [
    "import seaborn as sns\n",
    "\n",
    "print(conf_matrix)\n",
    "sns.heatmap(conf_matrix, annot=True, cmap=\"YlGnBu\", fmt='d')"
   ]
  },
  {
   "cell_type": "markdown",
   "metadata": {
    "colab_type": "text",
    "id": "8sOBdX7cwATe"
   },
   "source": [
    "#### Acknowledgements\n",
    "\n",
    "- ***Coursera's Sequence Model*** course set the fundamentals for me.\n",
    "- But LSTM was an optional part of their programming exercise in the course, and some of the formula's given by them were incorrect. So this [***Discussion Forums***](https://www.coursera.org/learn/nlp-sequence-models/discussions/weeks/1/threads/pRXJtJ_cEeiz4w5JxTItyg) thread really helped me out.\n",
    "- Thanks ***Spider team*** for giving me a chance to ***code LSTM from scratch***."
   ]
  }
 ],
 "metadata": {
  "accelerator": "GPU",
  "colab": {
   "collapsed_sections": [],
   "name": "Sentiment Analysis.ipynb",
   "provenance": [],
   "toc_visible": true,
   "version": "0.3.2"
  },
  "kernelspec": {
   "display_name": "Python 3",
   "language": "python",
   "name": "python3"
  },
  "language_info": {
   "codemirror_mode": {
    "name": "ipython",
    "version": 3
   },
   "file_extension": ".py",
   "mimetype": "text/x-python",
   "name": "python",
   "nbconvert_exporter": "python",
   "pygments_lexer": "ipython3",
   "version": "3.7.3"
  }
 },
 "nbformat": 4,
 "nbformat_minor": 1
}
